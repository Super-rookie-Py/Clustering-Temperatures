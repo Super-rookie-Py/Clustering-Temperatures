{
 "cells": [
  {
   "cell_type": "markdown",
   "metadata": {},
   "source": [
    "클러스터링\n",
    "==\n",
    "데이터\n",
    "--\n",
    "#### 2020/ 04 / 30 keonwooPark\n",
    "#### 세계평균기온 클러스터링(데이터는 R로 전처리 실시함)"
   ]
  },
  {
   "cell_type": "markdown",
   "metadata": {},
   "source": [
    "필요한 라이브러리(모듈) 설치\n",
    "--"
   ]
  },
  {
   "cell_type": "code",
   "execution_count": 24,
   "metadata": {},
   "outputs": [],
   "source": [
    "import pandas as pd\n",
    "import numpy as np\n",
    "import matplotlib.pyplot as plt\n",
    "%matplotlib inline"
   ]
  },
  {
   "cell_type": "markdown",
   "metadata": {},
   "source": [
    "데이터 읽기\n",
    "--"
   ]
  },
  {
   "cell_type": "code",
   "execution_count": 38,
   "metadata": {
    "scrolled": true
   },
   "outputs": [
    {
     "name": "stdout",
     "output_type": "stream",
     "text": [
      "(12, 13)\n"
     ]
    }
   ],
   "source": [
    "power_data = pd.read_excel('세계평균기온.xlsx')\n",
    "print(power_data.shape)"
   ]
  },
  {
   "cell_type": "code",
   "execution_count": 76,
   "metadata": {},
   "outputs": [
    {
     "data": {
      "text/html": [
       "<div>\n",
       "<style scoped>\n",
       "    .dataframe tbody tr th:only-of-type {\n",
       "        vertical-align: middle;\n",
       "    }\n",
       "\n",
       "    .dataframe tbody tr th {\n",
       "        vertical-align: top;\n",
       "    }\n",
       "\n",
       "    .dataframe thead th {\n",
       "        text-align: right;\n",
       "    }\n",
       "</style>\n",
       "<table border=\"1\" class=\"dataframe\">\n",
       "  <thead>\n",
       "    <tr style=\"text-align: right;\">\n",
       "      <th></th>\n",
       "      <th>나라</th>\n",
       "      <th>1월</th>\n",
       "      <th>2월</th>\n",
       "      <th>3월</th>\n",
       "      <th>4월</th>\n",
       "      <th>5월</th>\n",
       "      <th>6월</th>\n",
       "      <th>7월</th>\n",
       "      <th>8월</th>\n",
       "      <th>9월</th>\n",
       "      <th>10월</th>\n",
       "      <th>11월</th>\n",
       "      <th>12월</th>\n",
       "    </tr>\n",
       "  </thead>\n",
       "  <tbody>\n",
       "    <tr>\n",
       "      <th>0</th>\n",
       "      <td>프랑스</td>\n",
       "      <td>4.1</td>\n",
       "      <td>6.9</td>\n",
       "      <td>9.3</td>\n",
       "      <td>11.5</td>\n",
       "      <td>13.5</td>\n",
       "      <td>19.8</td>\n",
       "      <td>22.5</td>\n",
       "      <td>21.0</td>\n",
       "      <td>17.1</td>\n",
       "      <td>13.2</td>\n",
       "      <td>7.8</td>\n",
       "      <td>6.7</td>\n",
       "    </tr>\n",
       "    <tr>\n",
       "      <th>1</th>\n",
       "      <td>체코</td>\n",
       "      <td>-0.6</td>\n",
       "      <td>2.5</td>\n",
       "      <td>6.5</td>\n",
       "      <td>9.8</td>\n",
       "      <td>11.0</td>\n",
       "      <td>21.4</td>\n",
       "      <td>19.9</td>\n",
       "      <td>19.5</td>\n",
       "      <td>14.2</td>\n",
       "      <td>9.8</td>\n",
       "      <td>5.4</td>\n",
       "      <td>2.4</td>\n",
       "    </tr>\n",
       "    <tr>\n",
       "      <th>2</th>\n",
       "      <td>루마니아</td>\n",
       "      <td>-1.3</td>\n",
       "      <td>3.2</td>\n",
       "      <td>8.9</td>\n",
       "      <td>11.0</td>\n",
       "      <td>16.6</td>\n",
       "      <td>22.6</td>\n",
       "      <td>22.0</td>\n",
       "      <td>23.4</td>\n",
       "      <td>18.4</td>\n",
       "      <td>12.3</td>\n",
       "      <td>9.5</td>\n",
       "      <td>3.4</td>\n",
       "    </tr>\n",
       "    <tr>\n",
       "      <th>3</th>\n",
       "      <td>그리스</td>\n",
       "      <td>9.4</td>\n",
       "      <td>10.3</td>\n",
       "      <td>13.8</td>\n",
       "      <td>15.6</td>\n",
       "      <td>19.9</td>\n",
       "      <td>26.5</td>\n",
       "      <td>28.1</td>\n",
       "      <td>29.4</td>\n",
       "      <td>25.0</td>\n",
       "      <td>21.6</td>\n",
       "      <td>18.1</td>\n",
       "      <td>12.4</td>\n",
       "    </tr>\n",
       "    <tr>\n",
       "      <th>4</th>\n",
       "      <td>한국</td>\n",
       "      <td>-0.9</td>\n",
       "      <td>1.1</td>\n",
       "      <td>7.1</td>\n",
       "      <td>12.2</td>\n",
       "      <td>19.5</td>\n",
       "      <td>22.5</td>\n",
       "      <td>25.9</td>\n",
       "      <td>27.1</td>\n",
       "      <td>22.6</td>\n",
       "      <td>16.3</td>\n",
       "      <td>7.5</td>\n",
       "      <td>1.3</td>\n",
       "    </tr>\n",
       "    <tr>\n",
       "      <th>5</th>\n",
       "      <td>말레이시아</td>\n",
       "      <td>28.2</td>\n",
       "      <td>28.6</td>\n",
       "      <td>29.0</td>\n",
       "      <td>28.7</td>\n",
       "      <td>28.9</td>\n",
       "      <td>28.4</td>\n",
       "      <td>28.4</td>\n",
       "      <td>28.3</td>\n",
       "      <td>28.5</td>\n",
       "      <td>27.0</td>\n",
       "      <td>27.4</td>\n",
       "      <td>27.4</td>\n",
       "    </tr>\n",
       "    <tr>\n",
       "      <th>6</th>\n",
       "      <td>이집트</td>\n",
       "      <td>13.9</td>\n",
       "      <td>15.8</td>\n",
       "      <td>17.7</td>\n",
       "      <td>21.1</td>\n",
       "      <td>27.4</td>\n",
       "      <td>29.6</td>\n",
       "      <td>30.2</td>\n",
       "      <td>30.4</td>\n",
       "      <td>28.0</td>\n",
       "      <td>25.6</td>\n",
       "      <td>22.3</td>\n",
       "      <td>16.4</td>\n",
       "    </tr>\n",
       "    <tr>\n",
       "      <th>7</th>\n",
       "      <td>가나</td>\n",
       "      <td>29.2</td>\n",
       "      <td>29.4</td>\n",
       "      <td>29.5</td>\n",
       "      <td>29.4</td>\n",
       "      <td>28.2</td>\n",
       "      <td>27.0</td>\n",
       "      <td>26.2</td>\n",
       "      <td>25.8</td>\n",
       "      <td>26.6</td>\n",
       "      <td>27.0</td>\n",
       "      <td>28.6</td>\n",
       "      <td>29.1</td>\n",
       "    </tr>\n",
       "    <tr>\n",
       "      <th>8</th>\n",
       "      <td>캐나다</td>\n",
       "      <td>-11.4</td>\n",
       "      <td>-9.0</td>\n",
       "      <td>-3.7</td>\n",
       "      <td>4.7</td>\n",
       "      <td>11.4</td>\n",
       "      <td>17.5</td>\n",
       "      <td>22.7</td>\n",
       "      <td>19.7</td>\n",
       "      <td>15.3</td>\n",
       "      <td>8.9</td>\n",
       "      <td>-1.6</td>\n",
       "      <td>-4.9</td>\n",
       "    </tr>\n",
       "    <tr>\n",
       "      <th>9</th>\n",
       "      <td>미국</td>\n",
       "      <td>0.9</td>\n",
       "      <td>2.0</td>\n",
       "      <td>4.8</td>\n",
       "      <td>11.9</td>\n",
       "      <td>16.2</td>\n",
       "      <td>22.4</td>\n",
       "      <td>27.3</td>\n",
       "      <td>24.9</td>\n",
       "      <td>22.1</td>\n",
       "      <td>16.0</td>\n",
       "      <td>7.2</td>\n",
       "      <td>4.0</td>\n",
       "    </tr>\n",
       "    <tr>\n",
       "      <th>10</th>\n",
       "      <td>콜롬비아</td>\n",
       "      <td>13.6</td>\n",
       "      <td>14.2</td>\n",
       "      <td>14.5</td>\n",
       "      <td>14.6</td>\n",
       "      <td>14.3</td>\n",
       "      <td>14.3</td>\n",
       "      <td>13.7</td>\n",
       "      <td>13.6</td>\n",
       "      <td>13.9</td>\n",
       "      <td>13.4</td>\n",
       "      <td>14.1</td>\n",
       "      <td>14.0</td>\n",
       "    </tr>\n",
       "    <tr>\n",
       "      <th>11</th>\n",
       "      <td>브라질</td>\n",
       "      <td>24.0</td>\n",
       "      <td>23.5</td>\n",
       "      <td>22.8</td>\n",
       "      <td>23.2</td>\n",
       "      <td>22.7</td>\n",
       "      <td>20.6</td>\n",
       "      <td>20.0</td>\n",
       "      <td>22.4</td>\n",
       "      <td>25.2</td>\n",
       "      <td>25.8</td>\n",
       "      <td>24.7</td>\n",
       "      <td>24.0</td>\n",
       "    </tr>\n",
       "  </tbody>\n",
       "</table>\n",
       "</div>"
      ],
      "text/plain": [
       "       나라    1월    2월    3월    4월    5월    6월    7월    8월    9월   10월   11월  \\\n",
       "0     프랑스   4.1   6.9   9.3  11.5  13.5  19.8  22.5  21.0  17.1  13.2   7.8   \n",
       "1      체코  -0.6   2.5   6.5   9.8  11.0  21.4  19.9  19.5  14.2   9.8   5.4   \n",
       "2    루마니아  -1.3   3.2   8.9  11.0  16.6  22.6  22.0  23.4  18.4  12.3   9.5   \n",
       "3     그리스   9.4  10.3  13.8  15.6  19.9  26.5  28.1  29.4  25.0  21.6  18.1   \n",
       "4      한국  -0.9   1.1   7.1  12.2  19.5  22.5  25.9  27.1  22.6  16.3   7.5   \n",
       "5   말레이시아  28.2  28.6  29.0  28.7  28.9  28.4  28.4  28.3  28.5  27.0  27.4   \n",
       "6     이집트  13.9  15.8  17.7  21.1  27.4  29.6  30.2  30.4  28.0  25.6  22.3   \n",
       "7      가나  29.2  29.4  29.5  29.4  28.2  27.0  26.2  25.8  26.6  27.0  28.6   \n",
       "8     캐나다 -11.4  -9.0  -3.7   4.7  11.4  17.5  22.7  19.7  15.3   8.9  -1.6   \n",
       "9      미국   0.9   2.0   4.8  11.9  16.2  22.4  27.3  24.9  22.1  16.0   7.2   \n",
       "10   콜롬비아  13.6  14.2  14.5  14.6  14.3  14.3  13.7  13.6  13.9  13.4  14.1   \n",
       "11    브라질  24.0  23.5  22.8  23.2  22.7  20.6  20.0  22.4  25.2  25.8  24.7   \n",
       "\n",
       "     12월  \n",
       "0    6.7  \n",
       "1    2.4  \n",
       "2    3.4  \n",
       "3   12.4  \n",
       "4    1.3  \n",
       "5   27.4  \n",
       "6   16.4  \n",
       "7   29.1  \n",
       "8   -4.9  \n",
       "9    4.0  \n",
       "10  14.0  \n",
       "11  24.0  "
      ]
     },
     "execution_count": 76,
     "metadata": {},
     "output_type": "execute_result"
    }
   ],
   "source": [
    "power_data"
   ]
  },
  {
   "cell_type": "code",
   "execution_count": 40,
   "metadata": {},
   "outputs": [],
   "source": [
    "power = power_data.set_index('나라')"
   ]
  },
  {
   "cell_type": "code",
   "execution_count": 41,
   "metadata": {},
   "outputs": [
    {
     "data": {
      "text/html": [
       "<div>\n",
       "<style scoped>\n",
       "    .dataframe tbody tr th:only-of-type {\n",
       "        vertical-align: middle;\n",
       "    }\n",
       "\n",
       "    .dataframe tbody tr th {\n",
       "        vertical-align: top;\n",
       "    }\n",
       "\n",
       "    .dataframe thead th {\n",
       "        text-align: right;\n",
       "    }\n",
       "</style>\n",
       "<table border=\"1\" class=\"dataframe\">\n",
       "  <thead>\n",
       "    <tr style=\"text-align: right;\">\n",
       "      <th></th>\n",
       "      <th>1월</th>\n",
       "      <th>2월</th>\n",
       "      <th>3월</th>\n",
       "      <th>4월</th>\n",
       "      <th>5월</th>\n",
       "      <th>6월</th>\n",
       "      <th>7월</th>\n",
       "      <th>8월</th>\n",
       "      <th>9월</th>\n",
       "      <th>10월</th>\n",
       "      <th>11월</th>\n",
       "      <th>12월</th>\n",
       "    </tr>\n",
       "    <tr>\n",
       "      <th>나라</th>\n",
       "      <th></th>\n",
       "      <th></th>\n",
       "      <th></th>\n",
       "      <th></th>\n",
       "      <th></th>\n",
       "      <th></th>\n",
       "      <th></th>\n",
       "      <th></th>\n",
       "      <th></th>\n",
       "      <th></th>\n",
       "      <th></th>\n",
       "      <th></th>\n",
       "    </tr>\n",
       "  </thead>\n",
       "  <tbody>\n",
       "    <tr>\n",
       "      <th>프랑스</th>\n",
       "      <td>4.1</td>\n",
       "      <td>6.9</td>\n",
       "      <td>9.3</td>\n",
       "      <td>11.5</td>\n",
       "      <td>13.5</td>\n",
       "      <td>19.8</td>\n",
       "      <td>22.5</td>\n",
       "      <td>21.0</td>\n",
       "      <td>17.1</td>\n",
       "      <td>13.2</td>\n",
       "      <td>7.8</td>\n",
       "      <td>6.7</td>\n",
       "    </tr>\n",
       "    <tr>\n",
       "      <th>체코</th>\n",
       "      <td>-0.6</td>\n",
       "      <td>2.5</td>\n",
       "      <td>6.5</td>\n",
       "      <td>9.8</td>\n",
       "      <td>11.0</td>\n",
       "      <td>21.4</td>\n",
       "      <td>19.9</td>\n",
       "      <td>19.5</td>\n",
       "      <td>14.2</td>\n",
       "      <td>9.8</td>\n",
       "      <td>5.4</td>\n",
       "      <td>2.4</td>\n",
       "    </tr>\n",
       "    <tr>\n",
       "      <th>루마니아</th>\n",
       "      <td>-1.3</td>\n",
       "      <td>3.2</td>\n",
       "      <td>8.9</td>\n",
       "      <td>11.0</td>\n",
       "      <td>16.6</td>\n",
       "      <td>22.6</td>\n",
       "      <td>22.0</td>\n",
       "      <td>23.4</td>\n",
       "      <td>18.4</td>\n",
       "      <td>12.3</td>\n",
       "      <td>9.5</td>\n",
       "      <td>3.4</td>\n",
       "    </tr>\n",
       "    <tr>\n",
       "      <th>그리스</th>\n",
       "      <td>9.4</td>\n",
       "      <td>10.3</td>\n",
       "      <td>13.8</td>\n",
       "      <td>15.6</td>\n",
       "      <td>19.9</td>\n",
       "      <td>26.5</td>\n",
       "      <td>28.1</td>\n",
       "      <td>29.4</td>\n",
       "      <td>25.0</td>\n",
       "      <td>21.6</td>\n",
       "      <td>18.1</td>\n",
       "      <td>12.4</td>\n",
       "    </tr>\n",
       "    <tr>\n",
       "      <th>한국</th>\n",
       "      <td>-0.9</td>\n",
       "      <td>1.1</td>\n",
       "      <td>7.1</td>\n",
       "      <td>12.2</td>\n",
       "      <td>19.5</td>\n",
       "      <td>22.5</td>\n",
       "      <td>25.9</td>\n",
       "      <td>27.1</td>\n",
       "      <td>22.6</td>\n",
       "      <td>16.3</td>\n",
       "      <td>7.5</td>\n",
       "      <td>1.3</td>\n",
       "    </tr>\n",
       "  </tbody>\n",
       "</table>\n",
       "</div>"
      ],
      "text/plain": [
       "       1월    2월    3월    4월    5월    6월    7월    8월    9월   10월   11월   12월\n",
       "나라                                                                         \n",
       "프랑스   4.1   6.9   9.3  11.5  13.5  19.8  22.5  21.0  17.1  13.2   7.8   6.7\n",
       "체코   -0.6   2.5   6.5   9.8  11.0  21.4  19.9  19.5  14.2   9.8   5.4   2.4\n",
       "루마니아 -1.3   3.2   8.9  11.0  16.6  22.6  22.0  23.4  18.4  12.3   9.5   3.4\n",
       "그리스   9.4  10.3  13.8  15.6  19.9  26.5  28.1  29.4  25.0  21.6  18.1  12.4\n",
       "한국   -0.9   1.1   7.1  12.2  19.5  22.5  25.9  27.1  22.6  16.3   7.5   1.3"
      ]
     },
     "execution_count": 41,
     "metadata": {},
     "output_type": "execute_result"
    }
   ],
   "source": [
    "power.head()"
   ]
  },
  {
   "cell_type": "markdown",
   "metadata": {},
   "source": [
    "한글 폰트 설정 (맥, 윈도우, 리눅스)\n",
    "--"
   ]
  },
  {
   "cell_type": "code",
   "execution_count": 42,
   "metadata": {},
   "outputs": [],
   "source": [
    "import platform\n",
    "import matplotlib\n",
    "from matplotlib import font_manager, rc\n",
    "\n",
    "# '-' 기호 보이게 하기\n",
    "matplotlib.rcParams['axes.unicode_minus'] = False\n",
    "\n",
    "# 운영 체제마다 한글이 보이게 하는 설정\n",
    "# 윈도우\n",
    "if platform.system() == 'Windows':\n",
    "    path = \"c:\\Windows\\Fonts\\malgun.ttf\"\n",
    "    font_name = font_manager.FontProperties(fname=path).get_name()\n",
    "    rc('font', family=font_name)\n",
    "# 맥\n",
    "elif platform.system() == 'Darwin':\n",
    "    rc('font', family='AppleGothic')\n",
    "# 리눅스\n",
    "elif platform.system() == 'Linux':\n",
    "    rc('font', family='NanumBarunGothic')"
   ]
  },
  {
   "cell_type": "code",
   "execution_count": 444,
   "metadata": {},
   "outputs": [],
   "source": [
    "#power = power.drop(['AAR','ABL','ESR','JJA','JNA','KAL','TWB','ASV','CES','CQH','FGW','JAL'])"
   ]
  },
  {
   "cell_type": "code",
   "execution_count": 43,
   "metadata": {},
   "outputs": [
    {
     "data": {
      "text/plain": [
       "<matplotlib.axes._subplots.AxesSubplot at 0x2636c7c3470>"
      ]
     },
     "execution_count": 43,
     "metadata": {},
     "output_type": "execute_result"
    },
    {
     "data": {
      "image/png": "[encoded data removed]",
      "text/plain": [
       "<Figure size 720x432 with 1 Axes>"
      ]
     },
     "metadata": {
      "needs_background": "light"
     },
     "output_type": "display_data"
    }
   ],
   "source": [
    "see2 = [ '6월','12월']\n",
    "power[see2].plot(kind='barh', figsize=(10,6), stacked=True)"
   ]
  },
  {
   "cell_type": "code",
   "execution_count": 44,
   "metadata": {},
   "outputs": [
    {
     "data": {
      "text/html": [
       "<div>\n",
       "<style scoped>\n",
       "    .dataframe tbody tr th:only-of-type {\n",
       "        vertical-align: middle;\n",
       "    }\n",
       "\n",
       "    .dataframe tbody tr th {\n",
       "        vertical-align: top;\n",
       "    }\n",
       "\n",
       "    .dataframe thead th {\n",
       "        text-align: right;\n",
       "    }\n",
       "</style>\n",
       "<table border=\"1\" class=\"dataframe\">\n",
       "  <thead>\n",
       "    <tr style=\"text-align: right;\">\n",
       "      <th></th>\n",
       "      <th>6월</th>\n",
       "      <th>12월</th>\n",
       "    </tr>\n",
       "    <tr>\n",
       "      <th>나라</th>\n",
       "      <th></th>\n",
       "      <th></th>\n",
       "    </tr>\n",
       "  </thead>\n",
       "  <tbody>\n",
       "    <tr>\n",
       "      <th>프랑스</th>\n",
       "      <td>19.8</td>\n",
       "      <td>6.7</td>\n",
       "    </tr>\n",
       "    <tr>\n",
       "      <th>체코</th>\n",
       "      <td>21.4</td>\n",
       "      <td>2.4</td>\n",
       "    </tr>\n",
       "    <tr>\n",
       "      <th>루마니아</th>\n",
       "      <td>22.6</td>\n",
       "      <td>3.4</td>\n",
       "    </tr>\n",
       "    <tr>\n",
       "      <th>그리스</th>\n",
       "      <td>26.5</td>\n",
       "      <td>12.4</td>\n",
       "    </tr>\n",
       "    <tr>\n",
       "      <th>한국</th>\n",
       "      <td>22.5</td>\n",
       "      <td>1.3</td>\n",
       "    </tr>\n",
       "  </tbody>\n",
       "</table>\n",
       "</div>"
      ],
      "text/plain": [
       "        6월   12월\n",
       "나라              \n",
       "프랑스   19.8   6.7\n",
       "체코    21.4   2.4\n",
       "루마니아  22.6   3.4\n",
       "그리스   26.5  12.4\n",
       "한국    22.5   1.3"
      ]
     },
     "execution_count": 44,
     "metadata": {},
     "output_type": "execute_result"
    }
   ],
   "source": [
    "power = power[['6월','12월']]\n",
    "power.head(5)"
   ]
  },
  {
   "cell_type": "code",
   "execution_count": 45,
   "metadata": {},
   "outputs": [
    {
     "data": {
      "image/png": "[encoded data removed]",
      "text/plain": [
       "<Figure size 576x576 with 1 Axes>"
      ]
     },
     "metadata": {
      "needs_background": "light"
     },
     "output_type": "display_data"
    }
   ],
   "source": [
    "plt.figure(figsize=(8,8))\n",
    "plt.scatter(power['6월'], power['12월'],c='k',marker='o')\n",
    "plt.xlabel('6월')\n",
    "plt.ylabel('12월')\n",
    "\n",
    "for n in range(power.shape[0]):\n",
    "    plt.text(power['6월'][n]*1.03, power['12월'][n]*0.98, power.index[n])"
   ]
  },
  {
   "cell_type": "markdown",
   "metadata": {},
   "source": [
    "스캐터 플롯\n",
    "--"
   ]
  },
  {
   "cell_type": "markdown",
   "metadata": {},
   "source": [
    "덴드로그램\n",
    "--\n"
   ]
  },
  {
   "cell_type": "code",
   "execution_count": 46,
   "metadata": {},
   "outputs": [
    {
     "data": {
      "image/png": "[encoded data removed]",
      "text/plain": [
       "<Figure size 720x360 with 1 Axes>"
      ]
     },
     "metadata": {
      "needs_background": "light"
     },
     "output_type": "display_data"
    }
   ],
   "source": [
    "from scipy.cluster.hierarchy import dendrogram, linkage\n",
    "\n",
    "plt.figure(figsize=(10, 5))\n",
    "link_dist = linkage(power, metric='euclidean', method='ward')  \n",
    "dendrogram(link_dist, labels=power.index)\n",
    "plt.show()"
   ]
  },
  {
   "cell_type": "markdown",
   "metadata": {},
   "source": [
    "클러스터링 (KMeans)\n",
    "--"
   ]
  },
  {
   "cell_type": "code",
   "execution_count": 47,
   "metadata": {},
   "outputs": [
    {
     "name": "stdout",
     "output_type": "stream",
     "text": [
      "3\n"
     ]
    }
   ],
   "source": [
    "from sklearn.cluster import KMeans\n",
    "k = KMeans(n_clusters=3).fit(power)\n",
    "print(k.n_clusters)"
   ]
  },
  {
   "cell_type": "code",
   "execution_count": 48,
   "metadata": {},
   "outputs": [
    {
     "data": {
      "text/html": [
       "<div>\n",
       "<style scoped>\n",
       "    .dataframe tbody tr th:only-of-type {\n",
       "        vertical-align: middle;\n",
       "    }\n",
       "\n",
       "    .dataframe tbody tr th {\n",
       "        vertical-align: top;\n",
       "    }\n",
       "\n",
       "    .dataframe thead th {\n",
       "        text-align: right;\n",
       "    }\n",
       "</style>\n",
       "<table border=\"1\" class=\"dataframe\">\n",
       "  <thead>\n",
       "    <tr style=\"text-align: right;\">\n",
       "      <th></th>\n",
       "      <th>6월</th>\n",
       "      <th>12월</th>\n",
       "      <th>클러스터</th>\n",
       "    </tr>\n",
       "    <tr>\n",
       "      <th>나라</th>\n",
       "      <th></th>\n",
       "      <th></th>\n",
       "      <th></th>\n",
       "    </tr>\n",
       "  </thead>\n",
       "  <tbody>\n",
       "    <tr>\n",
       "      <th>프랑스</th>\n",
       "      <td>19.8</td>\n",
       "      <td>6.7</td>\n",
       "      <td>1</td>\n",
       "    </tr>\n",
       "    <tr>\n",
       "      <th>체코</th>\n",
       "      <td>21.4</td>\n",
       "      <td>2.4</td>\n",
       "      <td>1</td>\n",
       "    </tr>\n",
       "    <tr>\n",
       "      <th>루마니아</th>\n",
       "      <td>22.6</td>\n",
       "      <td>3.4</td>\n",
       "      <td>1</td>\n",
       "    </tr>\n",
       "    <tr>\n",
       "      <th>그리스</th>\n",
       "      <td>26.5</td>\n",
       "      <td>12.4</td>\n",
       "      <td>2</td>\n",
       "    </tr>\n",
       "    <tr>\n",
       "      <th>한국</th>\n",
       "      <td>22.5</td>\n",
       "      <td>1.3</td>\n",
       "      <td>1</td>\n",
       "    </tr>\n",
       "    <tr>\n",
       "      <th>말레이시아</th>\n",
       "      <td>28.4</td>\n",
       "      <td>27.4</td>\n",
       "      <td>0</td>\n",
       "    </tr>\n",
       "    <tr>\n",
       "      <th>이집트</th>\n",
       "      <td>29.6</td>\n",
       "      <td>16.4</td>\n",
       "      <td>2</td>\n",
       "    </tr>\n",
       "    <tr>\n",
       "      <th>가나</th>\n",
       "      <td>27.0</td>\n",
       "      <td>29.1</td>\n",
       "      <td>0</td>\n",
       "    </tr>\n",
       "    <tr>\n",
       "      <th>캐나다</th>\n",
       "      <td>17.5</td>\n",
       "      <td>-4.9</td>\n",
       "      <td>1</td>\n",
       "    </tr>\n",
       "    <tr>\n",
       "      <th>미국</th>\n",
       "      <td>22.4</td>\n",
       "      <td>4.0</td>\n",
       "      <td>1</td>\n",
       "    </tr>\n",
       "  </tbody>\n",
       "</table>\n",
       "</div>"
      ],
      "text/plain": [
       "         6월   12월  클러스터\n",
       "나라                     \n",
       "프랑스    19.8   6.7     1\n",
       "체코     21.4   2.4     1\n",
       "루마니아   22.6   3.4     1\n",
       "그리스    26.5  12.4     2\n",
       "한국     22.5   1.3     1\n",
       "말레이시아  28.4  27.4     0\n",
       "이집트    29.6  16.4     2\n",
       "가나     27.0  29.1     0\n",
       "캐나다    17.5  -4.9     1\n",
       "미국     22.4   4.0     1"
      ]
     },
     "execution_count": 48,
     "metadata": {},
     "output_type": "execute_result"
    }
   ],
   "source": [
    "power['클러스터'] = k.labels_\n",
    "power.head(10)\n"
   ]
  },
  {
   "cell_type": "code",
   "execution_count": 49,
   "metadata": {},
   "outputs": [
    {
     "data": {
      "text/html": [
       "<div>\n",
       "<style scoped>\n",
       "    .dataframe tbody tr th:only-of-type {\n",
       "        vertical-align: middle;\n",
       "    }\n",
       "\n",
       "    .dataframe tbody tr th {\n",
       "        vertical-align: top;\n",
       "    }\n",
       "\n",
       "    .dataframe thead th {\n",
       "        text-align: right;\n",
       "    }\n",
       "</style>\n",
       "<table border=\"1\" class=\"dataframe\">\n",
       "  <thead>\n",
       "    <tr style=\"text-align: right;\">\n",
       "      <th></th>\n",
       "      <th>6월</th>\n",
       "      <th>12월</th>\n",
       "    </tr>\n",
       "    <tr>\n",
       "      <th>나라</th>\n",
       "      <th></th>\n",
       "      <th></th>\n",
       "    </tr>\n",
       "  </thead>\n",
       "  <tbody>\n",
       "    <tr>\n",
       "      <th>프랑스</th>\n",
       "      <td>19.8</td>\n",
       "      <td>6.7</td>\n",
       "    </tr>\n",
       "    <tr>\n",
       "      <th>체코</th>\n",
       "      <td>21.4</td>\n",
       "      <td>2.4</td>\n",
       "    </tr>\n",
       "    <tr>\n",
       "      <th>루마니아</th>\n",
       "      <td>22.6</td>\n",
       "      <td>3.4</td>\n",
       "    </tr>\n",
       "    <tr>\n",
       "      <th>그리스</th>\n",
       "      <td>26.5</td>\n",
       "      <td>12.4</td>\n",
       "    </tr>\n",
       "    <tr>\n",
       "      <th>한국</th>\n",
       "      <td>22.5</td>\n",
       "      <td>1.3</td>\n",
       "    </tr>\n",
       "  </tbody>\n",
       "</table>\n",
       "</div>"
      ],
      "text/plain": [
       "        6월   12월\n",
       "나라              \n",
       "프랑스   19.8   6.7\n",
       "체코    21.4   2.4\n",
       "루마니아  22.6   3.4\n",
       "그리스   26.5  12.4\n",
       "한국    22.5   1.3"
      ]
     },
     "execution_count": 49,
     "metadata": {},
     "output_type": "execute_result"
    }
   ],
   "source": [
    "power.drop('클러스터', axis = 1, inplace=True) ; power.head()"
   ]
  },
  {
   "cell_type": "code",
   "execution_count": 50,
   "metadata": {
    "scrolled": true
   },
   "outputs": [
    {
     "data": {
      "text/plain": [
       "array([[25.33333333, 26.83333333],\n",
       "       [21.03333333,  2.15      ],\n",
       "       [23.46666667, 14.26666667]])"
      ]
     },
     "execution_count": 50,
     "metadata": {},
     "output_type": "execute_result"
    }
   ],
   "source": [
    "centers = k.cluster_centers_ ; centers"
   ]
  },
  {
   "cell_type": "code",
   "execution_count": 51,
   "metadata": {},
   "outputs": [
    {
     "data": {
      "image/png": "[encoded data removed]",
      "text/plain": [
       "<Figure size 720x576 with 1 Axes>"
      ]
     },
     "metadata": {
      "needs_background": "light"
     },
     "output_type": "display_data"
    }
   ],
   "source": [
    "my_markers=['*','^', 'o','^','.',',','1','2']\n",
    "my_color =['r','c','g','b','g','k','r','y']\n",
    "\n",
    "plt.figure(figsize=(10, 8))\n",
    "plt.xlabel('6월')\n",
    "plt.ylabel('12월')\n",
    "for n in range(power.shape[0]):\n",
    "    label = k.labels_[n]\n",
    "    plt.scatter(power['6월'][n], power['12월'][n], c=my_color[label], marker=my_markers[label], s=100)\n",
    "    plt.text(power['6월'][n]*1.03, power['12월'][n]*0.98, power.index[n])\n",
    "    \n",
    "for i in range(k.n_clusters):\n",
    "    plt.scatter(centers[i][0], centers[i][1], c = 'y', s= 50)"
   ]
  },
  {
   "cell_type": "markdown",
   "metadata": {},
   "source": [
    "스케일링 (표준 정규화)\n",
    "--"
   ]
  },
  {
   "cell_type": "code",
   "execution_count": 52,
   "metadata": {},
   "outputs": [
    {
     "data": {
      "text/html": [
       "<div>\n",
       "<style scoped>\n",
       "    .dataframe tbody tr th:only-of-type {\n",
       "        vertical-align: middle;\n",
       "    }\n",
       "\n",
       "    .dataframe tbody tr th {\n",
       "        vertical-align: top;\n",
       "    }\n",
       "\n",
       "    .dataframe thead th {\n",
       "        text-align: right;\n",
       "    }\n",
       "</style>\n",
       "<table border=\"1\" class=\"dataframe\">\n",
       "  <thead>\n",
       "    <tr style=\"text-align: right;\">\n",
       "      <th></th>\n",
       "      <th>6월</th>\n",
       "      <th>12월</th>\n",
       "    </tr>\n",
       "    <tr>\n",
       "      <th>나라</th>\n",
       "      <th></th>\n",
       "      <th></th>\n",
       "    </tr>\n",
       "  </thead>\n",
       "  <tbody>\n",
       "    <tr>\n",
       "      <th>프랑스</th>\n",
       "      <td>-0.673162</td>\n",
       "      <td>-0.438353</td>\n",
       "    </tr>\n",
       "    <tr>\n",
       "      <th>체코</th>\n",
       "      <td>-0.303884</td>\n",
       "      <td>-0.843711</td>\n",
       "    </tr>\n",
       "    <tr>\n",
       "      <th>루마니아</th>\n",
       "      <td>-0.026926</td>\n",
       "      <td>-0.749442</td>\n",
       "    </tr>\n",
       "    <tr>\n",
       "      <th>그리스</th>\n",
       "      <td>0.873187</td>\n",
       "      <td>0.098983</td>\n",
       "    </tr>\n",
       "    <tr>\n",
       "      <th>한국</th>\n",
       "      <td>-0.050006</td>\n",
       "      <td>-0.947407</td>\n",
       "    </tr>\n",
       "    <tr>\n",
       "      <th>말레이시아</th>\n",
       "      <td>1.311703</td>\n",
       "      <td>1.513024</td>\n",
       "    </tr>\n",
       "    <tr>\n",
       "      <th>이집트</th>\n",
       "      <td>1.588661</td>\n",
       "      <td>0.476060</td>\n",
       "    </tr>\n",
       "    <tr>\n",
       "      <th>가나</th>\n",
       "      <td>0.988586</td>\n",
       "      <td>1.673282</td>\n",
       "    </tr>\n",
       "    <tr>\n",
       "      <th>캐나다</th>\n",
       "      <td>-1.203998</td>\n",
       "      <td>-1.531877</td>\n",
       "    </tr>\n",
       "    <tr>\n",
       "      <th>미국</th>\n",
       "      <td>-0.073086</td>\n",
       "      <td>-0.692880</td>\n",
       "    </tr>\n",
       "    <tr>\n",
       "      <th>콜롬비아</th>\n",
       "      <td>-1.942552</td>\n",
       "      <td>0.249814</td>\n",
       "    </tr>\n",
       "    <tr>\n",
       "      <th>브라질</th>\n",
       "      <td>-0.488523</td>\n",
       "      <td>1.192508</td>\n",
       "    </tr>\n",
       "  </tbody>\n",
       "</table>\n",
       "</div>"
      ],
      "text/plain": [
       "             6월       12월\n",
       "나라                       \n",
       "프랑스   -0.673162 -0.438353\n",
       "체코    -0.303884 -0.843711\n",
       "루마니아  -0.026926 -0.749442\n",
       "그리스    0.873187  0.098983\n",
       "한국    -0.050006 -0.947407\n",
       "말레이시아  1.311703  1.513024\n",
       "이집트    1.588661  0.476060\n",
       "가나     0.988586  1.673282\n",
       "캐나다   -1.203998 -1.531877\n",
       "미국    -0.073086 -0.692880\n",
       "콜롬비아  -1.942552  0.249814\n",
       "브라질   -0.488523  1.192508"
      ]
     },
     "execution_count": 52,
     "metadata": {},
     "output_type": "execute_result"
    }
   ],
   "source": [
    "from sklearn.preprocessing import StandardScaler\n",
    "scaler = StandardScaler()\n",
    "power[['6월', '12월']] = scaler.fit_transform(power[['6월', '12월']])\n",
    "power"
   ]
  },
  {
   "cell_type": "markdown",
   "metadata": {},
   "source": [
    "정규화 이후의 클러스터링\n",
    "--"
   ]
  },
  {
   "cell_type": "code",
   "execution_count": 53,
   "metadata": {
    "scrolled": false
   },
   "outputs": [
    {
     "data": {
      "image/png": "[encoded data removed]",
      "text/plain": [
       "<Figure size 720x360 with 1 Axes>"
      ]
     },
     "metadata": {
      "needs_background": "light"
     },
     "output_type": "display_data"
    }
   ],
   "source": [
    "Z = linkage(power, metric='euclidean', method='ward') \n",
    "# 유클리드 거리를 이용해 Linkage Matrix를 생성\n",
    "plt.figure(figsize=(10, 5))\n",
    "plt.title('덴드로그램')\n",
    "dendrogram(Z, labels=power.index)\n",
    "plt.show()"
   ]
  },
  {
   "cell_type": "code",
   "execution_count": 54,
   "metadata": {},
   "outputs": [],
   "source": [
    "k = KMeans(n_clusters= 4).fit(power)"
   ]
  },
  {
   "cell_type": "code",
   "execution_count": 55,
   "metadata": {},
   "outputs": [],
   "source": [
    "centers = k.cluster_centers_"
   ]
  },
  {
   "cell_type": "code",
   "execution_count": 56,
   "metadata": {},
   "outputs": [
    {
     "data": {
      "text/plain": [
       "<Figure size 432x288 with 0 Axes>"
      ]
     },
     "metadata": {},
     "output_type": "display_data"
    },
    {
     "data": {
      "image/png": "[encoded data removed]",
      "text/plain": [
       "<Figure size 720x576 with 1 Axes>"
      ]
     },
     "metadata": {
      "needs_background": "light"
     },
     "output_type": "display_data"
    }
   ],
   "source": [
    "plt.clf()\n",
    "plt.figure(figsize=(10, 8))\n",
    "plt.xlabel('6월')\n",
    "plt.ylabel('12월')\n",
    "\n",
    "for n in range(power.shape[0]):\n",
    "    label = k.labels_[n]\n",
    "    plt.scatter(power['6월'][n], power['12월'][n], c=my_color[label], marker=my_markers[label], s=100)\n",
    "    plt.text(power['6월'][n]*1.05, power['12월'][n]*0.99, power.index[n])\n",
    "    \n",
    "for i in range(k.n_clusters):\n",
    "    plt.scatter(centers[i][0], centers[i][1], c = 'y', s= 50)"
   ]
  },
  {
   "cell_type": "markdown",
   "metadata": {},
   "source": [
    "모든 특성을 고려한 크러스터링 (두개가 아니라)\n",
    "--"
   ]
  },
  {
   "cell_type": "code",
   "execution_count": 57,
   "metadata": {},
   "outputs": [
    {
     "data": {
      "text/html": [
       "<div>\n",
       "<style scoped>\n",
       "    .dataframe tbody tr th:only-of-type {\n",
       "        vertical-align: middle;\n",
       "    }\n",
       "\n",
       "    .dataframe tbody tr th {\n",
       "        vertical-align: top;\n",
       "    }\n",
       "\n",
       "    .dataframe thead th {\n",
       "        text-align: right;\n",
       "    }\n",
       "</style>\n",
       "<table border=\"1\" class=\"dataframe\">\n",
       "  <thead>\n",
       "    <tr style=\"text-align: right;\">\n",
       "      <th></th>\n",
       "      <th>나라</th>\n",
       "      <th>1월</th>\n",
       "      <th>2월</th>\n",
       "      <th>3월</th>\n",
       "      <th>4월</th>\n",
       "      <th>5월</th>\n",
       "      <th>6월</th>\n",
       "      <th>7월</th>\n",
       "      <th>8월</th>\n",
       "      <th>9월</th>\n",
       "      <th>10월</th>\n",
       "      <th>11월</th>\n",
       "      <th>12월</th>\n",
       "    </tr>\n",
       "  </thead>\n",
       "  <tbody>\n",
       "    <tr>\n",
       "      <th>0</th>\n",
       "      <td>프랑스</td>\n",
       "      <td>4.1</td>\n",
       "      <td>6.9</td>\n",
       "      <td>9.3</td>\n",
       "      <td>11.5</td>\n",
       "      <td>13.5</td>\n",
       "      <td>19.8</td>\n",
       "      <td>22.5</td>\n",
       "      <td>21.0</td>\n",
       "      <td>17.1</td>\n",
       "      <td>13.2</td>\n",
       "      <td>7.8</td>\n",
       "      <td>6.7</td>\n",
       "    </tr>\n",
       "    <tr>\n",
       "      <th>1</th>\n",
       "      <td>체코</td>\n",
       "      <td>-0.6</td>\n",
       "      <td>2.5</td>\n",
       "      <td>6.5</td>\n",
       "      <td>9.8</td>\n",
       "      <td>11.0</td>\n",
       "      <td>21.4</td>\n",
       "      <td>19.9</td>\n",
       "      <td>19.5</td>\n",
       "      <td>14.2</td>\n",
       "      <td>9.8</td>\n",
       "      <td>5.4</td>\n",
       "      <td>2.4</td>\n",
       "    </tr>\n",
       "    <tr>\n",
       "      <th>2</th>\n",
       "      <td>루마니아</td>\n",
       "      <td>-1.3</td>\n",
       "      <td>3.2</td>\n",
       "      <td>8.9</td>\n",
       "      <td>11.0</td>\n",
       "      <td>16.6</td>\n",
       "      <td>22.6</td>\n",
       "      <td>22.0</td>\n",
       "      <td>23.4</td>\n",
       "      <td>18.4</td>\n",
       "      <td>12.3</td>\n",
       "      <td>9.5</td>\n",
       "      <td>3.4</td>\n",
       "    </tr>\n",
       "    <tr>\n",
       "      <th>3</th>\n",
       "      <td>그리스</td>\n",
       "      <td>9.4</td>\n",
       "      <td>10.3</td>\n",
       "      <td>13.8</td>\n",
       "      <td>15.6</td>\n",
       "      <td>19.9</td>\n",
       "      <td>26.5</td>\n",
       "      <td>28.1</td>\n",
       "      <td>29.4</td>\n",
       "      <td>25.0</td>\n",
       "      <td>21.6</td>\n",
       "      <td>18.1</td>\n",
       "      <td>12.4</td>\n",
       "    </tr>\n",
       "    <tr>\n",
       "      <th>4</th>\n",
       "      <td>한국</td>\n",
       "      <td>-0.9</td>\n",
       "      <td>1.1</td>\n",
       "      <td>7.1</td>\n",
       "      <td>12.2</td>\n",
       "      <td>19.5</td>\n",
       "      <td>22.5</td>\n",
       "      <td>25.9</td>\n",
       "      <td>27.1</td>\n",
       "      <td>22.6</td>\n",
       "      <td>16.3</td>\n",
       "      <td>7.5</td>\n",
       "      <td>1.3</td>\n",
       "    </tr>\n",
       "  </tbody>\n",
       "</table>\n",
       "</div>"
      ],
      "text/plain": [
       "     나라   1월    2월    3월    4월    5월    6월    7월    8월    9월   10월   11월   12월\n",
       "0   프랑스  4.1   6.9   9.3  11.5  13.5  19.8  22.5  21.0  17.1  13.2   7.8   6.7\n",
       "1    체코 -0.6   2.5   6.5   9.8  11.0  21.4  19.9  19.5  14.2   9.8   5.4   2.4\n",
       "2  루마니아 -1.3   3.2   8.9  11.0  16.6  22.6  22.0  23.4  18.4  12.3   9.5   3.4\n",
       "3   그리스  9.4  10.3  13.8  15.6  19.9  26.5  28.1  29.4  25.0  21.6  18.1  12.4\n",
       "4    한국 -0.9   1.1   7.1  12.2  19.5  22.5  25.9  27.1  22.6  16.3   7.5   1.3"
      ]
     },
     "execution_count": 57,
     "metadata": {},
     "output_type": "execute_result"
    }
   ],
   "source": [
    "power_data.head()"
   ]
  },
  {
   "cell_type": "code",
   "execution_count": 58,
   "metadata": {},
   "outputs": [],
   "source": [
    "power2 = power_data.set_index('나라')\n",
    "#power2 = power2.drop(['AAR','ABL','ESR','JJA','JNA','KAL','TWB','ASV','CES','CQH','FGW','JAL'])\n",
    "#power2.drop(['업무용합계', '산업용합계', '합계'], axis=1, \n",
    " #          inplace=True, errors='ignore')\n",
    "#power2.drop(['합계','개성','경기','서울'], inplace=True,errors='ignore')"
   ]
  },
  {
   "cell_type": "code",
   "execution_count": 59,
   "metadata": {
    "scrolled": false
   },
   "outputs": [
    {
     "data": {
      "text/html": [
       "<div>\n",
       "<style scoped>\n",
       "    .dataframe tbody tr th:only-of-type {\n",
       "        vertical-align: middle;\n",
       "    }\n",
       "\n",
       "    .dataframe tbody tr th {\n",
       "        vertical-align: top;\n",
       "    }\n",
       "\n",
       "    .dataframe thead th {\n",
       "        text-align: right;\n",
       "    }\n",
       "</style>\n",
       "<table border=\"1\" class=\"dataframe\">\n",
       "  <thead>\n",
       "    <tr style=\"text-align: right;\">\n",
       "      <th></th>\n",
       "      <th>1월</th>\n",
       "      <th>2월</th>\n",
       "      <th>3월</th>\n",
       "      <th>4월</th>\n",
       "      <th>5월</th>\n",
       "      <th>6월</th>\n",
       "      <th>7월</th>\n",
       "      <th>8월</th>\n",
       "      <th>9월</th>\n",
       "      <th>10월</th>\n",
       "      <th>11월</th>\n",
       "      <th>12월</th>\n",
       "    </tr>\n",
       "    <tr>\n",
       "      <th>나라</th>\n",
       "      <th></th>\n",
       "      <th></th>\n",
       "      <th></th>\n",
       "      <th></th>\n",
       "      <th></th>\n",
       "      <th></th>\n",
       "      <th></th>\n",
       "      <th></th>\n",
       "      <th></th>\n",
       "      <th></th>\n",
       "      <th></th>\n",
       "      <th></th>\n",
       "    </tr>\n",
       "  </thead>\n",
       "  <tbody>\n",
       "    <tr>\n",
       "      <th>프랑스</th>\n",
       "      <td>4.1</td>\n",
       "      <td>6.9</td>\n",
       "      <td>9.3</td>\n",
       "      <td>11.5</td>\n",
       "      <td>13.5</td>\n",
       "      <td>19.8</td>\n",
       "      <td>22.5</td>\n",
       "      <td>21.0</td>\n",
       "      <td>17.1</td>\n",
       "      <td>13.2</td>\n",
       "      <td>7.8</td>\n",
       "      <td>6.7</td>\n",
       "    </tr>\n",
       "    <tr>\n",
       "      <th>체코</th>\n",
       "      <td>-0.6</td>\n",
       "      <td>2.5</td>\n",
       "      <td>6.5</td>\n",
       "      <td>9.8</td>\n",
       "      <td>11.0</td>\n",
       "      <td>21.4</td>\n",
       "      <td>19.9</td>\n",
       "      <td>19.5</td>\n",
       "      <td>14.2</td>\n",
       "      <td>9.8</td>\n",
       "      <td>5.4</td>\n",
       "      <td>2.4</td>\n",
       "    </tr>\n",
       "    <tr>\n",
       "      <th>루마니아</th>\n",
       "      <td>-1.3</td>\n",
       "      <td>3.2</td>\n",
       "      <td>8.9</td>\n",
       "      <td>11.0</td>\n",
       "      <td>16.6</td>\n",
       "      <td>22.6</td>\n",
       "      <td>22.0</td>\n",
       "      <td>23.4</td>\n",
       "      <td>18.4</td>\n",
       "      <td>12.3</td>\n",
       "      <td>9.5</td>\n",
       "      <td>3.4</td>\n",
       "    </tr>\n",
       "    <tr>\n",
       "      <th>그리스</th>\n",
       "      <td>9.4</td>\n",
       "      <td>10.3</td>\n",
       "      <td>13.8</td>\n",
       "      <td>15.6</td>\n",
       "      <td>19.9</td>\n",
       "      <td>26.5</td>\n",
       "      <td>28.1</td>\n",
       "      <td>29.4</td>\n",
       "      <td>25.0</td>\n",
       "      <td>21.6</td>\n",
       "      <td>18.1</td>\n",
       "      <td>12.4</td>\n",
       "    </tr>\n",
       "    <tr>\n",
       "      <th>한국</th>\n",
       "      <td>-0.9</td>\n",
       "      <td>1.1</td>\n",
       "      <td>7.1</td>\n",
       "      <td>12.2</td>\n",
       "      <td>19.5</td>\n",
       "      <td>22.5</td>\n",
       "      <td>25.9</td>\n",
       "      <td>27.1</td>\n",
       "      <td>22.6</td>\n",
       "      <td>16.3</td>\n",
       "      <td>7.5</td>\n",
       "      <td>1.3</td>\n",
       "    </tr>\n",
       "  </tbody>\n",
       "</table>\n",
       "</div>"
      ],
      "text/plain": [
       "       1월    2월    3월    4월    5월    6월    7월    8월    9월   10월   11월   12월\n",
       "나라                                                                         \n",
       "프랑스   4.1   6.9   9.3  11.5  13.5  19.8  22.5  21.0  17.1  13.2   7.8   6.7\n",
       "체코   -0.6   2.5   6.5   9.8  11.0  21.4  19.9  19.5  14.2   9.8   5.4   2.4\n",
       "루마니아 -1.3   3.2   8.9  11.0  16.6  22.6  22.0  23.4  18.4  12.3   9.5   3.4\n",
       "그리스   9.4  10.3  13.8  15.6  19.9  26.5  28.1  29.4  25.0  21.6  18.1  12.4\n",
       "한국   -0.9   1.1   7.1  12.2  19.5  22.5  25.9  27.1  22.6  16.3   7.5   1.3"
      ]
     },
     "execution_count": 59,
     "metadata": {},
     "output_type": "execute_result"
    }
   ],
   "source": [
    "power2.head()"
   ]
  },
  {
   "cell_type": "code",
   "execution_count": 60,
   "metadata": {},
   "outputs": [],
   "source": [
    "index_power = power2.index\n",
    "column_power = power2.columns\n",
    "manufacture = list(column_power).index('6월')\n",
    "service = list(column_power).index('12월')"
   ]
  },
  {
   "cell_type": "code",
   "execution_count": 61,
   "metadata": {},
   "outputs": [],
   "source": [
    "from sklearn.preprocessing import StandardScaler\n",
    "scaler = StandardScaler()\n",
    "# 이제 power3는 ndarray이다\n",
    "power3 = scaler.fit_transform(power2)"
   ]
  },
  {
   "cell_type": "code",
   "execution_count": 62,
   "metadata": {},
   "outputs": [
    {
     "data": {
      "text/plain": [
       "pandas.core.frame.DataFrame"
      ]
     },
     "execution_count": 62,
     "metadata": {},
     "output_type": "execute_result"
    }
   ],
   "source": [
    "type(power3);type(power2)"
   ]
  },
  {
   "cell_type": "code",
   "execution_count": 63,
   "metadata": {},
   "outputs": [
    {
     "data": {
      "image/png": "[encoded data removed]",
      "text/plain": [
       "<Figure size 720x360 with 1 Axes>"
      ]
     },
     "metadata": {
      "needs_background": "light"
     },
     "output_type": "display_data"
    }
   ],
   "source": [
    "Z = linkage(power3, metric='euclidean', method='ward') \n",
    "# 유클리드 거리를 이용해 Linkage Matrix를 생성\n",
    "plt.figure(figsize=(10, 5))\n",
    "plt.title('덴드로그램')\n",
    "dendrogram(Z, labels=index_power)\n",
    "plt.show()"
   ]
  },
  {
   "cell_type": "code",
   "execution_count": 74,
   "metadata": {},
   "outputs": [],
   "source": [
    "k = KMeans(n_clusters=4).fit(power3)"
   ]
  },
  {
   "cell_type": "code",
   "execution_count": 78,
   "metadata": {
    "scrolled": true
   },
   "outputs": [
    {
     "name": "stdout",
     "output_type": "stream",
     "text": [
      "12\n"
     ]
    },
    {
     "data": {
      "image/png": "[encoded data removed]",
      "text/plain": [
       "<Figure size 504x360 with 1 Axes>"
      ]
     },
     "metadata": {
      "needs_background": "light"
     },
     "output_type": "display_data"
    }
   ],
   "source": [
    "n_samples = power3.shape[0]\n",
    "print(n_samples)\n",
    "\n",
    "plt.figure(figsize=(7, 5))\n",
    "plt.xlabel('6월')\n",
    "plt.ylabel('12월')\n",
    "\n",
    "for n in range(n_samples):\n",
    "    label = k.labels_[n]\n",
    "    plt.scatter(power3[n][service], power3[n][manufacture], c=my_color[label], marker=my_markers[label], s=100)\n",
    "    plt.text(power3[n][service]*1.05, power3[n][manufacture]*0.99, index_power[n])"
   ]
  },
  {
   "cell_type": "markdown",
   "metadata": {},
   "source": [
    "## DBSCAN"
   ]
  },
  {
   "cell_type": "code",
   "execution_count": 224,
   "metadata": {},
   "outputs": [
    {
     "data": {
      "image/png": "[encoded data removed]",
      "text/plain": [
       "<Figure size 432x288 with 1 Axes>"
      ]
     },
     "metadata": {
      "needs_background": "light"
     },
     "output_type": "display_data"
    }
   ],
   "source": [
    "from sklearn.datasets import make_moons\n",
    "from sklearn.cluster import DBSCAN\n",
    "X, y = make_moons(n_samples=300, noise=0.05, random_state=11)\n",
    "plt.scatter(X[:,0], X[:,1])\n",
    "plt.show()"
   ]
  },
  {
   "cell_type": "code",
   "execution_count": 225,
   "metadata": {},
   "outputs": [
    {
     "data": {
      "text/plain": [
       "<matplotlib.collections.PathCollection at 0x10e8d90f0>"
      ]
     },
     "execution_count": 225,
     "metadata": {},
     "output_type": "execute_result"
    },
    {
     "data": {
      "image/png": "[encoded data removed]",
      "text/plain": [
       "<Figure size 432x288 with 1 Axes>"
      ]
     },
     "metadata": {
      "needs_background": "light"
     },
     "output_type": "display_data"
    }
   ],
   "source": [
    "kmeans = KMeans(n_clusters=2)\n",
    "predict = kmeans.fit_predict(X)\n",
    "plt.scatter(X[:,0], X[:,1],c=predict)"
   ]
  },
  {
   "cell_type": "code",
   "execution_count": 226,
   "metadata": {},
   "outputs": [
    {
     "data": {
      "text/plain": [
       "<matplotlib.collections.PathCollection at 0x10e3fcc18>"
      ]
     },
     "execution_count": 226,
     "metadata": {},
     "output_type": "execute_result"
    },
    {
     "data": {
      "image/png": "[encoded data removed]",
      "text/plain": [
       "<Figure size 432x288 with 1 Axes>"
      ]
     },
     "metadata": {
      "needs_background": "light"
     },
     "output_type": "display_data"
    }
   ],
   "source": [
    "dbscan = DBSCAN(eps=0.2, min_samples=10, metric='euclidean')\n",
    "predict = dbscan.fit_predict(X)\n",
    "plt.scatter(X[:,0], X[:,1],c=predict)"
   ]
  },
  {
   "cell_type": "code",
   "execution_count": null,
   "metadata": {},
   "outputs": [],
   "source": []
  }
 ],
 "metadata": {
  "kernelspec": {
   "display_name": "Python 3",
   "language": "python",
   "name": "python3"
  },
  "language_info": {
   "codemirror_mode": {
    "name": "ipython",
    "version": 3
   },
   "file_extension": ".py",
   "mimetype": "text/x-python",
   "name": "python",
   "nbconvert_exporter": "python",
   "pygments_lexer": "ipython3",
   "version": "3.6.2"
  }
 },
 "nbformat": 4,
 "nbformat_minor": 2
}
